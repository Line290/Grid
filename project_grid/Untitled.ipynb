{
 "cells": [
  {
   "cell_type": "code",
   "execution_count": 1,
   "metadata": {},
   "outputs": [],
   "source": [
    "import caffe\n",
    "import numpy as np\n",
    "import lmdb"
   ]
  },
  {
   "cell_type": "code",
   "execution_count": 2,
   "metadata": {},
   "outputs": [
    {
     "name": "stdout",
     "output_type": "stream",
     "text": [
      "(10000, 10000) float64 800000000\n"
     ]
    }
   ],
   "source": [
    "a = np.load(\"X51.npy\")\n",
    "print a.shape, a.dtype, a.nbytes"
   ]
  },
  {
   "cell_type": "code",
   "execution_count": 3,
   "metadata": {},
   "outputs": [
    {
     "name": "stdout",
     "output_type": "stream",
     "text": [
      "400000000\n"
     ]
    }
   ],
   "source": [
    "a = a.astype(np.float32)\n",
    "print a.nbytes"
   ]
  },
  {
   "cell_type": "code",
   "execution_count": 4,
   "metadata": {},
   "outputs": [
    {
     "name": "stdout",
     "output_type": "stream",
     "text": [
      "(10000, 1, 100, 100)\n"
     ]
    }
   ],
   "source": [
    "X = a.reshape(10000,1,100,100)\n",
    "print X.shape"
   ]
  },
  {
   "cell_type": "code",
   "execution_count": 5,
   "metadata": {},
   "outputs": [
    {
     "name": "stdout",
     "output_type": "stream",
     "text": [
      "(10000, 10000) [[21  3 10 ..., 11  9 21]\n",
      " [21 10 13 ..., 13  5 21]\n",
      " [21  9 11 ..., 10  6 21]\n",
      " ..., \n",
      " [21  1  9 ..., 12  9 21]\n",
      " [21  9 10 ...,  8  4 21]\n",
      " [21  5  8 ..., 10  3 21]] 400000000\n"
     ]
    }
   ],
   "source": [
    "y = np.load(\"y51.npy\")\n",
    "y = y.astype(np.int32)\n",
    "print y.shape,y,y.nbytes"
   ]
  },
  {
   "cell_type": "code",
   "execution_count": 6,
   "metadata": {},
   "outputs": [],
   "source": [
    "y = y.reshape(10000,1,100,100)"
   ]
  },
  {
   "cell_type": "code",
   "execution_count": 7,
   "metadata": {},
   "outputs": [
    {
     "name": "stdout",
     "output_type": "stream",
     "text": [
      "(10000, 1, 100, 100)\n"
     ]
    }
   ],
   "source": [
    "print y.shape"
   ]
  },
  {
   "cell_type": "code",
   "execution_count": 8,
   "metadata": {},
   "outputs": [
    {
     "name": "stdout",
     "output_type": "stream",
     "text": [
      "400000000\n"
     ]
    }
   ],
   "source": [
    "print X.nbytes"
   ]
  },
  {
   "cell_type": "code",
   "execution_count": null,
   "metadata": {},
   "outputs": [],
   "source": []
  },
  {
   "cell_type": "code",
   "execution_count": 9,
   "metadata": {},
   "outputs": [],
   "source": [
    "map_size = 10*a.nbytes\n",
    "env = lmdb.open('mylmdb',map_size=map_size)"
   ]
  },
  {
   "cell_type": "code",
   "execution_count": 10,
   "metadata": {},
   "outputs": [],
   "source": [
    "with env.begin(write=True) as txn:\n",
    "    for i in range(a.shape[0]):\n",
    "        datum = caffe.proto.caffe_pb2.Datum()\n",
    "        datum.channels = X.shape[1]\n",
    "        datum.height = X.shape[2]\n",
    "        datum.width = X.shape[3]\n",
    "        datum.data = X[i].tobytes()\n",
    "        datum.label = 0\n",
    "        str_id = '{:08}'.format(i)"
   ]
  },
  {
   "cell_type": "code",
   "execution_count": 11,
   "metadata": {},
   "outputs": [
    {
     "ename": "TypeError",
     "evalue": "expected a readable buffer object",
     "output_type": "error",
     "traceback": [
      "\u001b[0;31m---------------------------------------------------------------------------\u001b[0m",
      "\u001b[0;31mTypeError\u001b[0m                                 Traceback (most recent call last)",
      "\u001b[0;32m<ipython-input-11-cd057ca6ea12>\u001b[0m in \u001b[0;36m<module>\u001b[0;34m()\u001b[0m\n\u001b[1;32m      4\u001b[0m \u001b[0;34m\u001b[0m\u001b[0m\n\u001b[1;32m      5\u001b[0m \u001b[0mdatum\u001b[0m \u001b[0;34m=\u001b[0m \u001b[0mcaffe\u001b[0m\u001b[0;34m.\u001b[0m\u001b[0mproto\u001b[0m\u001b[0;34m.\u001b[0m\u001b[0mcaffe_pb2\u001b[0m\u001b[0;34m.\u001b[0m\u001b[0mDatum\u001b[0m\u001b[0;34m(\u001b[0m\u001b[0;34m)\u001b[0m\u001b[0;34m\u001b[0m\u001b[0m\n\u001b[0;32m----> 6\u001b[0;31m \u001b[0mdatum\u001b[0m\u001b[0;34m.\u001b[0m\u001b[0mParseFromString\u001b[0m\u001b[0;34m(\u001b[0m\u001b[0mraw_datum\u001b[0m\u001b[0;34m)\u001b[0m\u001b[0;34m\u001b[0m\u001b[0m\n\u001b[0m\u001b[1;32m      7\u001b[0m \u001b[0;34m\u001b[0m\u001b[0m\n\u001b[1;32m      8\u001b[0m \u001b[0mflat_x\u001b[0m \u001b[0;34m=\u001b[0m \u001b[0mnp\u001b[0m\u001b[0;34m.\u001b[0m\u001b[0mfromstring\u001b[0m\u001b[0;34m(\u001b[0m\u001b[0mdatum\u001b[0m\u001b[0;34m.\u001b[0m\u001b[0mdata\u001b[0m\u001b[0;34m,\u001b[0m \u001b[0mdtype\u001b[0m\u001b[0;34m=\u001b[0m\u001b[0mnp\u001b[0m\u001b[0;34m.\u001b[0m\u001b[0muint8\u001b[0m\u001b[0;34m)\u001b[0m\u001b[0;34m\u001b[0m\u001b[0m\n",
      "\u001b[0;31mTypeError\u001b[0m: expected a readable buffer object"
     ]
    }
   ],
   "source": [
    "env = lmdb.open('mylmdb', readonly=True)\n",
    "with env.begin() as txn:\n",
    "    raw_datum = txn.get(b'00000000')\n",
    "\n",
    "datum = caffe.proto.caffe_pb2.Datum()\n",
    "datum.ParseFromString(raw_datum)\n",
    "\n",
    "flat_x = np.fromstring(datum.data, dtype=np.uint8)\n",
    "x = flat_x.reshape(datum.channels, datum.height, datum.width)\n",
    "y = datum.label"
   ]
  },
  {
   "cell_type": "code",
   "execution_count": 8,
   "metadata": {},
   "outputs": [],
   "source": [
    "import caffe\n",
    "import numpy as np\n",
    "import lmdb\n",
    "x = np.load(\"X51.npy\")\n",
    "y = np.load(\"y51.npy\")\n",
    "x = x.astype(np.float32).reshape(10000,1,100,100)\n",
    "y = y.astype(np.float32).reshape(10000,1,100,100)\n",
    "in_db = lmdb.open('data-lmdb', map_size=int(x.nbytes*10))\n",
    "with in_db.begin(write=True) as in_txn:\n",
    "    for i in range(x.shape[0]):\n",
    "        im = x[i]\n",
    "        im_dat = caffe.io.array_to_datum(im)\n",
    "        in_txn.put('{:0>10d}'.format(i), im_dat.SerializeToString())\n",
    "in_db.close()"
   ]
  },
  {
   "cell_type": "code",
   "execution_count": 9,
   "metadata": {},
   "outputs": [
    {
     "name": "stdout",
     "output_type": "stream",
     "text": [
      "(1, 100, 100)\n",
      "1\n",
      "[[[  0.           1.67448342   7.14212561 ...,  42.58302689  44.62506866\n",
      "    45.75233841]\n",
      "  [  3.39622021   0.           5.46764231 ...,  45.97924805  48.02128983\n",
      "    49.14855957]\n",
      "  [  4.83443928   1.43821895   0.         ...,  42.39348984  44.43553162\n",
      "    45.56280518]\n",
      "  ..., \n",
      "  [ 39.90295029  40.71175003  46.17938995 ...,   0.           2.04204273\n",
      "     3.16931367]\n",
      "  [ 40.93133545  41.74013138  47.20777512 ...,   2.20748711   0.\n",
      "     1.12727094]\n",
      "  [ 39.80406189  40.61286163  46.08050537 ...,   8.57852364   6.37103653\n",
      "     0.        ]]]\n"
     ]
    }
   ],
   "source": [
    "r_db = lmdb.open('data-lmdb', readonly = True)\n",
    "r_txn = r_db.begin()\n",
    "r_cursor = r_txn.cursor()\n",
    "datum = caffe.proto.caffe_pb2.Datum()\n",
    "for key, value in r_cursor:\n",
    "    i = 1\n",
    "    datum.ParseFromString(value)\n",
    "    data = caffe.io.datum_to_array(datum)\n",
    "    print data.shape\n",
    "    print datum.channels\n",
    "    print data\n",
    "    if i == 1:\n",
    "        break"
   ]
  },
  {
   "cell_type": "code",
   "execution_count": 10,
   "metadata": {},
   "outputs": [
    {
     "name": "stdout",
     "output_type": "stream",
     "text": [
      "[[[  0.           1.67448342   7.14212561 ...,  42.58302689  44.62506866\n",
      "    45.75233841]\n",
      "  [  3.39622021   0.           5.46764231 ...,  45.97924805  48.02128983\n",
      "    49.14855957]\n",
      "  [  4.83443928   1.43821895   0.         ...,  42.39348984  44.43553162\n",
      "    45.56280518]\n",
      "  ..., \n",
      "  [ 39.90295029  40.71175003  46.17938995 ...,   0.           2.04204273\n",
      "     3.16931367]\n",
      "  [ 40.93133545  41.74013138  47.20777512 ...,   2.20748711   0.\n",
      "     1.12727094]\n",
      "  [ 39.80406189  40.61286163  46.08050537 ...,   8.57852364   6.37103653\n",
      "     0.        ]]]\n"
     ]
    }
   ],
   "source": [
    "print x[0]"
   ]
  }
 ],
 "metadata": {
  "kernelspec": {
   "display_name": "Python 2",
   "language": "python",
   "name": "python2"
  },
  "language_info": {
   "codemirror_mode": {
    "name": "ipython",
    "version": 2
   },
   "file_extension": ".py",
   "mimetype": "text/x-python",
   "name": "python",
   "nbconvert_exporter": "python",
   "pygments_lexer": "ipython2",
   "version": "2.7.12"
  }
 },
 "nbformat": 4,
 "nbformat_minor": 2
}
